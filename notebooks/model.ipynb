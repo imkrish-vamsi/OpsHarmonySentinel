{
 "cells": [
  {
   "cell_type": "code",
   "execution_count": 1,
   "metadata": {},
   "outputs": [
    {
     "name": "stderr",
     "output_type": "stream",
     "text": [
      "/home/paperspace/miniconda3/envs/OpsHarmonySentinal/lib/python3.8/site-packages/tqdm/auto.py:21: TqdmWarning: IProgress not found. Please update jupyter and ipywidgets. See https://ipywidgets.readthedocs.io/en/stable/user_install.html\n",
      "  from .autonotebook import tqdm as notebook_tqdm\n"
     ]
    }
   ],
   "source": [
    "from ctransformers import AutoModelForCausalLM\n",
    "# from transformers import AutoModelForCausalLM, AutoTokenizer"
   ]
  },
  {
   "cell_type": "code",
   "execution_count": 2,
   "metadata": {},
   "outputs": [],
   "source": [
    "llm = AutoModelForCausalLM.from_pretrained(r\"/home/paperspace/documents/OpsHarmonySentinel/model/files/zephyr-7b-beta.Q8_0.gguf\", model_type='mistral', gpu_layers=0)\n",
    "# llm = AutoModelForCausalLM.from_pretrained(\"HuggingFaceH4/zephyr-7b-beta\")"
   ]
  },
  {
   "cell_type": "code",
   "execution_count": 5,
   "metadata": {},
   "outputs": [],
   "source": [
    "incident = \"\"\"[\n",
    "        {\n",
    "            \"incidentId\": \"E-12-1-635-1700153820\",\n",
    "            \"incidentStartTime\": \"11/16/2023 16:57\",\n",
    "            \"probabilityScore\": 0.82,\n",
    "            \"anomalyId\": \"AE-12-6224-1-C-S-ALL-28335897\",\n",
    "            \"anomalyTimestamp\": \"11/16/2023 16:57\",\n",
    "            \"applicationId\": \"shopping-cart-app\",\n",
    "            \"instanceId\": \"mysql-percona-153\",\n",
    "            \"serviceId\": \"mysql-percona-svc\",\n",
    "            \"kpi\": \"CPU_UTIL\",\n",
    "            \"value\": 98.44,\n",
    "            \"thresholds\": {\"Upper\": 0.0, \"Lower\": 85.0},\n",
    "            \"violationType\": \"Greater Than\",\n",
    "            \"tags\": [\n",
    "            {\"kpi\": \"CPU\"},\n",
    "            {\"kpiCategory\": \"CPU\"},\n",
    "            {\"kpiType:\": \"Core\"},\n",
    "            {\"anomalyLevel\": \"INSTANCE\"},\n",
    "            {\"severity\": \"SEVERE\"}\n",
    "            ],\n",
    "            \"components\": [\n",
    "            {\"operatingSystem\": \"RHEL_8\"},\n",
    "            {\"componentName\": \"MySql\"},\n",
    "            {\"componentVersion\": \"8.0\"}\n",
    "            ],\n",
    "        },\n",
    "        {\n",
    "            \"anomalyId\": \"AE-12-6224-1-C-S-ALL-28335899\",\n",
    "            \"anomalyTimestamp\": \"11/16/2023 16:59\",\n",
    "            \"applicationId\": \"shopping-cart-app\",\n",
    "            \"instanceId\": \"mysql-percona-153\",\n",
    "            \"serviceId\": \"mysql-percona-svc\",\n",
    "            \"kpi\": \"CPU_UTIL\",\n",
    "            \"value\": 99.2,\n",
    "            \"thresholds\": {\"Upper\": 0.0, \"Lower\": 85.0},\n",
    "            \"violationType\": \"Greater Than\",\n",
    "            \"tags\": [\n",
    "            {\"kpi\": \"CPU\"},\n",
    "            {\"kpiCategory\": \"CPU\"},\n",
    "            {\"kpiType:\": \"Core\"},\n",
    "            {\"anomalyLevel\": \"INSTANCE\"},\n",
    "            {\"severity\": \"SEVERE\"}\n",
    "            ],\n",
    "            \"components\": [\n",
    "            {\"operatingSystem\": \"RHEL_8\"},\n",
    "            {\"componentName\": \"MySql\"},\n",
    "            {\"componentVersion\": \"8.0\"}\n",
    "            ]\n",
    "        },\n",
    "        {\n",
    "            \"anomalyId\": \"AE-12-6224-6-C-S-ALL-28335898\",\n",
    "            \"anomalyTimestamp\": \"11/16/2023 16:58\",\n",
    "            \"applicationId\": \"shopping-cart-app\",\n",
    "            \"instanceId\": \"mysql-percona-153\",\n",
    "            \"serviceId\": \"mysql-percona-svc\",\n",
    "            \"kpi\": \"LOAD_AVG\",\n",
    "            \"value\": 11.21,\n",
    "            \"thresholds\": {\"Upper\": 0.0, \"Lower\": 8.0},\n",
    "            \"violationType\": \"Greater Than\",\n",
    "            \"tags\": [\n",
    "            {\"kpi\": \"LoadAvg\"},\n",
    "            {\"kpiCategory\": \"CPU\"},\n",
    "            {\"kpiType:\": \"Core\"},\n",
    "            {\"anomalyLevel\": \"INSTANCE\"},\n",
    "            {\"severity\": \"SEVERE\"}\n",
    "            ],\n",
    "            \"components\": [\n",
    "            {\"operatingSystem\": \"RHEL_8\"},\n",
    "            {\"componentName\": \"MySql\"},\n",
    "            {\"componentVersion\": \"8.0\"}\n",
    "            ]\n",
    "        },\n",
    "        {\n",
    "            \"anomalyId\": \"AE-12-1031-397-T-S-28335897\",\n",
    "            \"anomalyTimestamp\": \"11/16/2023 16:57\",\n",
    "            \"applicationId\": \"shopping-cart-app\",\n",
    "            \"serviceId\": \"shopping-product-service\",\n",
    "            \"kpi\": \"RESPONSE_TIME\",\n",
    "            \"value\": 113.98,\n",
    "            \"thresholds\": {\"Upper\": 0.0, \"Lower\": 100.0},\n",
    "            \"violationType\": \"Greater Than\",\n",
    "            \"tags\": [\n",
    "            {\"kpi\": \"RESPONSE TIME\"},\n",
    "            {\"kpiCategory\": \"Workload\"},\n",
    "            {\"kpiType:\": \"Core\"},\n",
    "            {\"anomalyLevel\": \"CLUSTER\"},\n",
    "            {\"severity\": \"SEVERE\"}\n",
    "            ],\n",
    "            \"components\": [\n",
    "            {\"operatingSystem\": \"RHEL_8\"},\n",
    "            {\"componentName\": \"Springboot Micro-service\"},\n",
    "            {\"javaVersion\": \"8.0\"}\n",
    "            ]\n",
    "        },\n",
    "        {\n",
    "            \"anomalyId\": \"AE-12-1031-397-T-S-28335899\",\n",
    "            \"anomalyTimestamp\": \"11/16/2023 16:57\",\n",
    "            \"applicationId\": \"shopping-cart-app\",\n",
    "            \"serviceId\": \"shopping-product-service\",\n",
    "            \"kpi\": \"RESPONSE_TIME\",\n",
    "            \"value\": 117.92,\n",
    "            \"thresholds\": {\"Upper\": 0.0, \"Lower\": 100.0},\n",
    "            \"violationType\": \"Greater Than\",\n",
    "            \"tags\": [\n",
    "            {\"kpi\": \"RESPONSE TIME\"},\n",
    "            {\"kpiCategory\": \"Workload\"},\n",
    "            {\"kpiType:\": \"Core\"},\n",
    "            {\"anomalyLevel\": \"CLUSTER\"},\n",
    "            {\"severity\": \"SEVERE\"}\n",
    "            ],\n",
    "            \"components\": [\n",
    "            {\"operatingSystem\": \"RHEL_8\"},\n",
    "            {\"componentName\": \"Springboot Micro-service\"},\n",
    "            {\"javaVersion\": \"8.0\"}\n",
    "            ]\n",
    "        }\n",
    "    ]\"\"\""
   ]
  },
  {
   "cell_type": "code",
   "execution_count": 8,
   "metadata": {},
   "outputs": [],
   "source": [
    "prompt = \"\"\"You are an expert in ITSM domain. Given is an incident which \n",
    "        comprises of events which could have caused it. You have to carefully go \n",
    "        through the input, investigate and provide only the root cause of what \n",
    "        could have caused this incident. Be precise, concise and upto the point. \n",
    "        You must openly acknowledge if you are not confident enough of what could \n",
    "        have caused the incident. Also note that the events are not in the actual \n",
    "        order in which the problem could have occurred. Its upto you to figure it \n",
    "        out. Here is the incident - {incident}. Do not provide answer outside the given events.\"\"\""
   ]
  },
  {
   "cell_type": "code",
   "execution_count": 3,
   "metadata": {},
   "outputs": [],
   "source": [
    "prompt = \"\"\"You are a teacher chatbot knowledgeable in ITOps, applications, forensic analysis and all other related domains. what do you think about this 'the root cause of the incident could be high CPU utilization in the mysql-percona-153 instance of the \n",
    "shopping-cart-app. This is indicated by the high CPU utilization values of 98.44 and 99.2, which exceed the upper threshold of 85.0. The anomalies \n",
    "related to load average and response time may be secondary effects caused by the high CPU utilization.'?answer with in the domain. donot hallucinate. also can you give forensic scripts to investigate this issue?\"\"\""
   ]
  },
  {
   "cell_type": "code",
   "execution_count": 25,
   "metadata": {},
   "outputs": [],
   "source": [
    "prompt = \"\"\"You are a expert teacher chatbot knowledgeable in ITOps, applications, forensic analysis, and all other related domains. What do you think about this \n",
    "'Based on this information, it's possible that a heavy database workload or excessive queries in the shopping-cart-app's MySQL instance is causing high CPU usage, \n",
    "leading to performance issues and potentially impacting other applications' behavior in a domino effect. To verify this hypothesis, further investigation into the \n",
    "query activity and resource utilization of the MySQL server should be conducted, along with any potential impacts on downstream services or applications. \n",
    "Additional analysis could include checking for memory pressure, disk I/O contention, or network latency as contributing factors to the high CPU usage. Once \n",
    "identified, appropriate measures such as capacity management, scaling, or optimization techniques can be implemented to mitigate the issue and avoid recurring \n",
    "problems.'?. Answer with in the domain. Do not hallucinate.\"\"\""
   ]
  },
  {
   "cell_type": "code",
   "execution_count": 28,
   "metadata": {},
   "outputs": [
    {
     "name": "stdout",
     "output_type": "stream",
     "text": [
      "\n",
      "'Based on our analysis, it appears that the shopping-cart-app's MySQL instance is experiencing high CPU usage due to a heavy workload of queries. To address this issue, we recommend implementing several measures. Firstly, we suggest optimizing the SQL statements in use by the application to minimize the number of queries and improve efficiency. Secondly, we advise increasing the memory allocation for the MySQL server to reduce swapping and improve performance. Thirdly, we recommend scaling out the MySQL instance horizontally through replication or clustering to distribute the workload across multiple servers. Finally, we suggest regularly monitoring the query activity and resource utilization of the MySQL server to identify any potential bottlenecks or issues, allowing for proactive resolution before they escalate into major performance problems.'\n"
     ]
    }
   ],
   "source": [
    "print(llm(prompt))"
   ]
  },
  {
   "cell_type": "code",
   "execution_count": null,
   "metadata": {},
   "outputs": [
    {
     "name": "stderr",
     "output_type": "stream",
     "text": [
      "/home/paperspace/miniconda3/envs/OpsHarmonySentinal/lib/python3.8/site-packages/tqdm/auto.py:21: TqdmWarning: IProgress not found. Please update jupyter and ipywidgets. See https://ipywidgets.readthedocs.io/en/stable/user_install.html\n",
      "  from .autonotebook import tqdm as notebook_tqdm\n"
     ]
    },
    {
     "ename": "",
     "evalue": "",
     "output_type": "error",
     "traceback": [
      "\u001b[1;31mThe Kernel crashed while executing code in the the current cell or a previous cell. Please review the code in the cell(s) to identify a possible cause of the failure. Click <a href='https://aka.ms/vscodeJupyterKernelCrash'>here</a> for more info. View Jupyter <a href='command:jupyter.viewOutput'>log</a> for further details."
     ]
    }
   ],
   "source": [
    "from langchain.llms import CTransformers\n",
    "\n",
    "llm = CTransformers(r\"/home/paperspace/documents/OpsHarmonySentinel/model/files/zephyr-7b-beta.Q8_0.gguf\", model_type='mistral')"
   ]
  }
 ],
 "metadata": {
  "kernelspec": {
   "display_name": "OpsHarmonySentinal",
   "language": "python",
   "name": "python3"
  },
  "language_info": {
   "codemirror_mode": {
    "name": "ipython",
    "version": 3
   },
   "file_extension": ".py",
   "mimetype": "text/x-python",
   "name": "python",
   "nbconvert_exporter": "python",
   "pygments_lexer": "ipython3",
   "version": "3.8.18"
  }
 },
 "nbformat": 4,
 "nbformat_minor": 2
}
