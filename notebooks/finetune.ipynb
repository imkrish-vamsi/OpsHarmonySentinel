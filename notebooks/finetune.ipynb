{
 "cells": [
  {
   "cell_type": "code",
   "execution_count": null,
   "metadata": {},
   "outputs": [],
   "source": [
    "! pip install -q bitsandbytes datasets accelerate loralib\n",
    "! pip install -q git+https://github.com/huggingface/transformers.git@main git+https://github.com/huggingface/peft.git\n",
    "! pip install optimum auto-gptq\n",
    "! pip install seaborn\n",
    "! pip install wandb\n",
    "! pip install flash-attn --no-build-isolation"
   ]
  },
  {
   "cell_type": "code",
   "execution_count": 1,
   "metadata": {},
   "outputs": [],
   "source": [
    "import transformers, torch"
   ]
  },
  {
   "cell_type": "code",
   "execution_count": 2,
   "metadata": {},
   "outputs": [
    {
     "name": "stderr",
     "output_type": "stream",
     "text": [
      "Failed to detect the name of this notebook, you can set it manually with the WANDB_NOTEBOOK_NAME environment variable to enable code saving.\n",
      "\u001b[34m\u001b[1mwandb\u001b[0m: Currently logged in as: \u001b[33mimthegodfather\u001b[0m. Use \u001b[1m`wandb login --relogin`\u001b[0m to force relogin\n"
     ]
    },
    {
     "data": {
      "text/html": [
       "Tracking run with wandb version 0.16.0"
      ],
      "text/plain": [
       "<IPython.core.display.HTML object>"
      ]
     },
     "metadata": {},
     "output_type": "display_data"
    },
    {
     "data": {
      "text/html": [
       "Run data is saved locally in <code>/home/paperspace/documents/OpsHarmonySentinel/notebooks/wandb/run-20231130_033256-7vlfsfq7</code>"
      ],
      "text/plain": [
       "<IPython.core.display.HTML object>"
      ]
     },
     "metadata": {},
     "output_type": "display_data"
    },
    {
     "data": {
      "text/html": [
       "Syncing run <strong><a href='https://wandb.ai/imthegodfather/OpsHarmonySentinel/runs/7vlfsfq7' target=\"_blank\">fiery-microwave-3</a></strong> to <a href='https://wandb.ai/imthegodfather/OpsHarmonySentinel' target=\"_blank\">Weights & Biases</a> (<a href='https://wandb.me/run' target=\"_blank\">docs</a>)<br/>"
      ],
      "text/plain": [
       "<IPython.core.display.HTML object>"
      ]
     },
     "metadata": {},
     "output_type": "display_data"
    },
    {
     "data": {
      "text/html": [
       " View project at <a href='https://wandb.ai/imthegodfather/OpsHarmonySentinel' target=\"_blank\">https://wandb.ai/imthegodfather/OpsHarmonySentinel</a>"
      ],
      "text/plain": [
       "<IPython.core.display.HTML object>"
      ]
     },
     "metadata": {},
     "output_type": "display_data"
    },
    {
     "data": {
      "text/html": [
       " View run at <a href='https://wandb.ai/imthegodfather/OpsHarmonySentinel/runs/7vlfsfq7' target=\"_blank\">https://wandb.ai/imthegodfather/OpsHarmonySentinel/runs/7vlfsfq7</a>"
      ],
      "text/plain": [
       "<IPython.core.display.HTML object>"
      ]
     },
     "metadata": {},
     "output_type": "display_data"
    },
    {
     "data": {
      "text/html": [
       "<button onClick=\"this.nextSibling.style.display='block';this.style.display='none';\">Display W&B run</button><iframe src='https://wandb.ai/imthegodfather/OpsHarmonySentinel/runs/7vlfsfq7?jupyter=true' style='border:none;width:100%;height:420px;display:none;'></iframe>"
      ],
      "text/plain": [
       "<wandb.sdk.wandb_run.Run at 0x7f46990f36d0>"
      ]
     },
     "execution_count": 2,
     "metadata": {},
     "output_type": "execute_result"
    }
   ],
   "source": [
    "import wandb\n",
    "wandb.login()\n",
    "wandb.init(project=\"OpsHarmonySentinel\")"
   ]
  },
  {
   "cell_type": "code",
   "execution_count": 3,
   "metadata": {},
   "outputs": [
    {
     "data": {
      "application/vnd.jupyter.widget-view+json": {
       "model_id": "a1821a6a24f9430c9a4ce015f1a03ea2",
       "version_major": 2,
       "version_minor": 0
      },
      "text/plain": [
       "VBox(children=(HTML(value='<center> <img\\nsrc=https://huggingface.co/front/assets/huggingface_logo-noborder.sv…"
      ]
     },
     "metadata": {},
     "output_type": "display_data"
    }
   ],
   "source": [
    "from huggingface_hub import notebook_login\n",
    "notebook_login()"
   ]
  },
  {
   "cell_type": "code",
   "execution_count": 3,
   "metadata": {},
   "outputs": [],
   "source": [
    "import os\n",
    "PROJECT_DIR_PATH = ''\n",
    "OUTPUT_PATH = os.path.join(PROJECT_DIR_PATH, 'model', 'files')"
   ]
  },
  {
   "cell_type": "code",
   "execution_count": 17,
   "metadata": {},
   "outputs": [],
   "source": [
    "DEVICE = 'cuda'\n",
    "\n",
    "BASELINE_MODEL_NAME = 'HuggingFaceH4/zephyr-7b-beta'\n",
    "PROJECT_NAME = 'OpsHarmonySentinel'\n",
    "HUGGING_FACE_REPO_NAME = f'imTheGodFather/{PROJECT_NAME}'\n",
    "HUGGING_FACE_MERGED_REPO_NAME = f'{HUGGING_FACE_REPO_NAME}_merged'\n",
    "HUGGING_FACE_GPTQ_REPO_NAME = f'{HUGGING_FACE_REPO_NAME}_gptq'"
   ]
  },
  {
   "cell_type": "markdown",
   "metadata": {},
   "source": [
    "Dataset"
   ]
  },
  {
   "cell_type": "code",
   "execution_count": 16,
   "metadata": {},
   "outputs": [],
   "source": [
    "from datasets import load_dataset\n",
    "ds = load_dataset('birgermoell/open_assistant_dataset')"
   ]
  },
  {
   "cell_type": "code",
   "execution_count": 17,
   "metadata": {},
   "outputs": [],
   "source": [
    "import pandas as pd\n",
    "df = ds['train'].to_pandas()"
   ]
  },
  {
   "cell_type": "code",
   "execution_count": 18,
   "metadata": {},
   "outputs": [
    {
     "data": {
      "text/html": [
       "<div>\n",
       "<style scoped>\n",
       "    .dataframe tbody tr th:only-of-type {\n",
       "        vertical-align: middle;\n",
       "    }\n",
       "\n",
       "    .dataframe tbody tr th {\n",
       "        vertical-align: top;\n",
       "    }\n",
       "\n",
       "    .dataframe thead th {\n",
       "        text-align: right;\n",
       "    }\n",
       "</style>\n",
       "<table border=\"1\" class=\"dataframe\">\n",
       "  <thead>\n",
       "    <tr style=\"text-align: right;\">\n",
       "      <th></th>\n",
       "      <th>text</th>\n",
       "      <th>meta</th>\n",
       "    </tr>\n",
       "  </thead>\n",
       "  <tbody>\n",
       "    <tr>\n",
       "      <th>0</th>\n",
       "      <td>User: User: Where did the first transistor com...</td>\n",
       "      <td>{'source': ''}</td>\n",
       "    </tr>\n",
       "    <tr>\n",
       "      <th>1</th>\n",
       "      <td>User: User: How can I sync my cell phone with ...</td>\n",
       "      <td>{'source': ''}</td>\n",
       "    </tr>\n",
       "    <tr>\n",
       "      <th>2</th>\n",
       "      <td>User: User: Explain the concept of blockchain ...</td>\n",
       "      <td>{'source': ''}</td>\n",
       "    </tr>\n",
       "  </tbody>\n",
       "</table>\n",
       "</div>"
      ],
      "text/plain": [
       "                                                text            meta\n",
       "0  User: User: Where did the first transistor com...  {'source': ''}\n",
       "1  User: User: How can I sync my cell phone with ...  {'source': ''}\n",
       "2  User: User: Explain the concept of blockchain ...  {'source': ''}"
      ]
     },
     "execution_count": 18,
     "metadata": {},
     "output_type": "execute_result"
    }
   ],
   "source": [
    "df.head(3)"
   ]
  },
  {
   "cell_type": "code",
   "execution_count": 13,
   "metadata": {},
   "outputs": [],
   "source": [
    "import pandas as pd\n",
    "\n",
    "train_path = \"/home/tranquility/documents/OpsHarmonySentinel/data/train.csv\"\n",
    "df = pd.read_csv(train_path)"
   ]
  },
  {
   "cell_type": "code",
   "execution_count": 18,
   "metadata": {},
   "outputs": [
    {
     "name": "stderr",
     "output_type": "stream",
     "text": [
      "tokenizer_config.json: 100%|██████████| 1.43k/1.43k [00:00<00:00, 227kB/s]\n",
      "tokenizer.model: 100%|██████████| 493k/493k [00:00<00:00, 1.11MB/s]\n",
      "tokenizer.json: 100%|██████████| 1.80M/1.80M [00:01<00:00, 1.21MB/s]\n",
      "added_tokens.json: 100%|██████████| 42.0/42.0 [00:00<00:00, 20.2kB/s]\n",
      "special_tokens_map.json: 100%|██████████| 168/168 [00:00<00:00, 154kB/s]\n"
     ]
    }
   ],
   "source": [
    "# Get tokenizer\n",
    "import transformers\n",
    "tokenizer = transformers.AutoTokenizer.from_pretrained(BASELINE_MODEL_NAME,\n",
    "                                                       padding_side='left',\n",
    "                                                       add_eos_token=True\n",
    "                                                       )\n",
    "tokenizer.pad_token = tokenizer.eos_token"
   ]
  },
  {
   "cell_type": "code",
   "execution_count": 19,
   "metadata": {},
   "outputs": [],
   "source": [
    "def text_to_dialogue(text):\n",
    "    return [sentence.replace('User:', '').replace('Chip:', '').strip() for sentence in text.split('Assistant:')]\n",
    "\n",
    "def dialogue_to_chat(dialogue):\n",
    "    out = [{'role': 'system', 'content': 'You are a friendly chatbot assistant made by HEAL. You are an expert in ITOps, servers, applications and all other related domains.'}]\n",
    "    # for idx, message in enumerate(dialogue):\n",
    "    #     role = 'user' if idx%2==0 else 'assistant'\n",
    "    #     out.append({'role': role, 'content': message})\n",
    "    input = f\"Investigate and provide root cause for the following incident - {dialogue['incident']}\"\n",
    "    out.append({'role': 'user', 'content': input})\n",
    "    out.append({'role': 'assistant', 'content': dialogue['root_cause']})\n",
    "    return out\n",
    "\n",
    "def chat_to_input(chat):\n",
    "    return tokenizer.apply_chat_template(chat, tokenize=False)\n",
    "\n",
    "def process_example(example):\n",
    "    # out = text_to_dialogue(example)\n",
    "    out = dialogue_to_chat(example)\n",
    "    out = chat_to_input(out)\n",
    "    return out"
   ]
  },
  {
   "cell_type": "code",
   "execution_count": 21,
   "metadata": {},
   "outputs": [
    {
     "name": "stdout",
     "output_type": "stream",
     "text": [
      "User: User: Does anyone have any tips on saving money?\n",
      "Assistant: Chip: One tip for saving money is to create a budget and stick to it. Make sure you track your expenses and put aside money for savings each month. Additionally, research deals and discounts online before you make a purchase, and take advantage of any coupons or promotions. You can also look for alternatives to expensive items, and consider cooking meals at home rather than eating out. Finally, try to pay down any debt and reduce frivolous spending.\n",
      "\n",
      "<|system|>\n",
      "You are a friendly chatbot assistant.</s>\n",
      "<|user|>\n",
      "Does anyone have any tips on saving money?</s>\n",
      "<|assistant|>\n",
      "One tip for saving money is to create a budget and stick to it. Make sure you track your expenses and put aside money for savings each month. Additionally, research deals and discounts online before you make a purchase, and take advantage of any coupons or promotions. You can also look for alternatives to expensive items, and consider cooking meals at home rather than eating out. Finally, try to pay down any debt and reduce frivolous spending.</s>\n",
      "\n"
     ]
    }
   ],
   "source": [
    "example = df['text'].iloc[12312]\n",
    "\n",
    "print(example)\n",
    "print()\n",
    "print(process_example(example))"
   ]
  },
  {
   "cell_type": "code",
   "execution_count": 20,
   "metadata": {},
   "outputs": [],
   "source": [
    "data = [process_example(row) for idx, row in df.iterrows()]"
   ]
  },
  {
   "cell_type": "code",
   "execution_count": 23,
   "metadata": {},
   "outputs": [
    {
     "name": "stdout",
     "output_type": "stream",
     "text": [
      "<|system|>\n",
      "You are a friendly chatbot assistant made by HEAL. You are an expert in ITOps, servers, applications and all other related domains.</s>\n",
      "<|user|>\n",
      "Investigate and provide root cause for the following incident - [\n",
      "    {\n",
      "        \"incidentId\": \"E-21-2-745-2100155821\",\n",
      "        \"incidentStartTime\": \"04/01/2023 10:35\",\n",
      "        \"probabilityScore\": 0.89,\n",
      "        \"anomalyId\": \"AE-21-7524-3-J-S-ALL-38435897\",\n",
      "        \"anomalyTimestamp\": \"04/01/2023 10:35\",\n",
      "        \"applicationId\": \"java-webapp\",\n",
      "        \"instanceId\": \"weblogic-server-001\",\n",
      "        \"serviceId\": \"weblogic-service\",\n",
      "        \"kpi\": \"HEAP_MEMORY_USAGE\",\n",
      "        \"value\": 95.6,\n",
      "        \"thresholds\": {\"Upper\": 90.0, \"Lower\": 0.0},\n",
      "        \"violationType\": \"Greater Than\",\n",
      "        \"tags\": [\n",
      "            {\"kpi\": \"HeapMemory\"},\n",
      "            {\"kpiCategory\": \"Memory\"},\n",
      "            {\"kpiType:\": \"JVM\"},\n",
      "            {\"anomalyLevel\": \"INSTANCE\"},\n",
      "            {\"severity\": \"SEVERE\"}\n",
      "        ],\n",
      "        \"components\": [\n",
      "            {\"operatingSystem\": \"Linux\"},\n",
      "            {\"componentName\": \"Java\"},\n",
      "            {\"componentVersion\": \"11\"},\n",
      "            {\"weblogicVersion\": \"12c\"}\n",
      "        ]\n",
      "    },\n",
      "    {\n",
      "        \"anomalyId\": \"AE-21-7524-3-J-S-ALL-38435898\",\n",
      "        \"anomalyTimestamp\": \"04/01/2023 10:40\",\n",
      "        \"applicationId\": \"java-webapp\",\n",
      "        \"instanceId\": \"weblogic-server-001\",\n",
      "        \"serviceId\": \"weblogic-service\",\n",
      "        \"kpi\": \"GARBAGE_COLLECTION_COUNT\",\n",
      "        \"value\": 12,\n",
      "        \"thresholds\": {\"Upper\": 5, \"Lower\": 0.0},\n",
      "        \"violationType\": \"Greater Than\",\n",
      "        \"tags\": [\n",
      "            {\"kpi\": \"GarbageCollection\"},\n",
      "            {\"kpiCategory\": \"Memory\"},\n",
      "            {\"kpiType:\": \"JVM\"},\n",
      "            {\"anomalyLevel\": \"INSTANCE\"},\n",
      "            {\"severity\": \"SEVERE\"}\n",
      "        ],\n",
      "        \"components\": [\n",
      "            {\"operatingSystem\": \"Linux\"},\n",
      "            {\"componentName\": \"Java\"},\n",
      "            {\"componentVersion\": \"11\"},\n",
      "            {\"weblogicVersion\": \"12c\"}\n",
      "        ]\n",
      "    },\n",
      "    {\n",
      "        \"anomalyId\": \"AE-21-7524-3-J-S-ALL-38435999\",\n",
      "        \"anomalyTimestamp\": \"04/01/2023 10:45\",\n",
      "        \"applicationId\": \"java-webapp\",\n",
      "        \"instanceId\": \"weblogic-server-001\",\n",
      "        \"serviceId\": \"weblogic-service\",\n",
      "        \"kpi\": \"OUT_OF_MEMORY_ERROR\",\n",
      "        \"value\": 1,\n",
      "        \"thresholds\": {\"Upper\": 0, \"Lower\": 0.0},\n",
      "        \"violationType\": \"Equal\",\n",
      "        \"tags\": [\n",
      "            {\"kpi\": \"OutOfMemoryError\"},\n",
      "            {\"kpiCategory\": \"Memory\"},\n",
      "            {\"kpiType:\": \"JVM\"},\n",
      "            {\"anomalyLevel\": \"INSTANCE\"},\n",
      "            {\"severity\": \"CRITICAL\"}\n",
      "        ],\n",
      "        \"components\": [\n",
      "            {\"operatingSystem\": \"Linux\"},\n",
      "            {\"componentName\": \"Java\"},\n",
      "            {\"componentVersion\": \"11\"},\n",
      "            {\"weblogicVersion\": \"12c\"}\n",
      "        ]\n",
      "    }\n",
      "]</s>\n",
      "<|assistant|>\n",
      "Based on the provided information, the root cause of the incident could be a memory leak in the Java application deployed on WebLogic Server. This is indicated by the steadily increasing heap memory usage and frequent garbage collection events, eventually leading to out-of-memory errors.</s>\n",
      "\n"
     ]
    }
   ],
   "source": [
    "print(data[0])"
   ]
  },
  {
   "cell_type": "code",
   "execution_count": null,
   "metadata": {},
   "outputs": [],
   "source": [
    "data = list(map(process_example, df['text']))"
   ]
  },
  {
   "cell_type": "code",
   "execution_count": 23,
   "metadata": {},
   "outputs": [],
   "source": [
    "from random import shuffle\n",
    "shuffle(data)"
   ]
  },
  {
   "cell_type": "code",
   "execution_count": 24,
   "metadata": {},
   "outputs": [],
   "source": [
    "tokenized_data = list(map(tokenizer, data))"
   ]
  },
  {
   "cell_type": "code",
   "execution_count": 15,
   "metadata": {},
   "outputs": [
    {
     "data": {
      "text/plain": [
       "<seaborn.axisgrid.FacetGrid at 0x7f45a47f31f0>"
      ]
     },
     "execution_count": 15,
     "metadata": {},
     "output_type": "execute_result"
    },
    {
     "data": {
      "image/png": "[encoded data removed]",
      "text/plain": [
       "<Figure size 500x500 with 1 Axes>"
      ]
     },
     "metadata": {},
     "output_type": "display_data"
    }
   ],
   "source": [
    "# Plot sequence Lengths\n",
    "import seaborn as sns\n",
    "\n",
    "input_lengths = [len(x['input_ids']) for x in tokenized_data]\n",
    "sns.displot(input_lengths, kde=True).set(title='Distribution of Text Sequence Lengths')"
   ]
  },
  {
   "cell_type": "code",
   "execution_count": 25,
   "metadata": {},
   "outputs": [],
   "source": [
    "split_idx = int(.99 * len(data))\n",
    "train_data, val_data = tokenized_data[:split_idx], tokenized_data[split_idx:]"
   ]
  },
  {
   "cell_type": "markdown",
   "metadata": {},
   "source": [
    "Finetune"
   ]
  },
  {
   "cell_type": "code",
   "execution_count": 5,
   "metadata": {},
   "outputs": [
    {
     "data": {
      "application/vnd.jupyter.widget-view+json": {
       "model_id": "11a4a2eaafb145f79d383dade874ee64",
       "version_major": 2,
       "version_minor": 0
      },
      "text/plain": [
       "Loading checkpoint shards:   0%|          | 0/8 [00:00<?, ?it/s]"
      ]
     },
     "metadata": {},
     "output_type": "display_data"
    }
   ],
   "source": [
    "# Get quantized model\n",
    "model = transformers.AutoModelForCausalLM.from_pretrained(BASELINE_MODEL_NAME,\n",
    "                                                          load_in_8bit=True,     # call for the 8 bit bnb quantized version\n",
    "                                                          device_map='auto'\n",
    "                                                          )"
   ]
  },
  {
   "cell_type": "code",
   "execution_count": 6,
   "metadata": {},
   "outputs": [],
   "source": [
    "# Get tokenizer\n",
    "tokenizer = transformers.AutoTokenizer.from_pretrained(BASELINE_MODEL_NAME,\n",
    "                                                       padding_side='left',\n",
    "                                                       add_eos_token=True\n",
    "                                                       )\n",
    "tokenizer.pad_token = tokenizer.eos_token"
   ]
  },
  {
   "cell_type": "code",
   "execution_count": 7,
   "metadata": {},
   "outputs": [
    {
     "data": {
      "text/plain": [
       "MistralForCausalLM(\n",
       "  (model): MistralModel(\n",
       "    (embed_tokens): Embedding(32000, 4096, padding_idx=2)\n",
       "    (layers): ModuleList(\n",
       "      (0-31): 32 x MistralDecoderLayer(\n",
       "        (self_attn): MistralAttention(\n",
       "          (q_proj): Linear8bitLt(in_features=4096, out_features=4096, bias=False)\n",
       "          (k_proj): Linear8bitLt(in_features=4096, out_features=1024, bias=False)\n",
       "          (v_proj): Linear8bitLt(in_features=4096, out_features=1024, bias=False)\n",
       "          (o_proj): Linear8bitLt(in_features=4096, out_features=4096, bias=False)\n",
       "          (rotary_emb): MistralRotaryEmbedding()\n",
       "        )\n",
       "        (mlp): MistralMLP(\n",
       "          (gate_proj): Linear8bitLt(in_features=4096, out_features=14336, bias=False)\n",
       "          (up_proj): Linear8bitLt(in_features=4096, out_features=14336, bias=False)\n",
       "          (down_proj): Linear8bitLt(in_features=14336, out_features=4096, bias=False)\n",
       "          (act_fn): SiLU()\n",
       "        )\n",
       "        (input_layernorm): MistralRMSNorm()\n",
       "        (post_attention_layernorm): MistralRMSNorm()\n",
       "      )\n",
       "    )\n",
       "    (norm): MistralRMSNorm()\n",
       "  )\n",
       "  (lm_head): Linear(in_features=4096, out_features=32000, bias=False)\n",
       ")"
      ]
     },
     "execution_count": 7,
     "metadata": {},
     "output_type": "execute_result"
    }
   ],
   "source": [
    "model"
   ]
  },
  {
   "cell_type": "code",
   "execution_count": 8,
   "metadata": {},
   "outputs": [],
   "source": [
    "# Set PEFT adapter config (16:32)\n",
    "from peft import LoraConfig, get_peft_model, prepare_model_for_kbit_training\n",
    "\n",
    "config = LoraConfig(\n",
    "    r=16,\n",
    "    lora_alpha=32,\n",
    "    target_modules=[\"q_proj\", \"v_proj\"],                             # Apply to \"q_proj\", \"v_proj\" layers of attention (as suggested by paper)\n",
    "    lora_dropout=0.05,\n",
    "    bias=\"none\",\n",
    "    task_type=\"CAUSAL_LM\")"
   ]
  },
  {
   "cell_type": "code",
   "execution_count": 9,
   "metadata": {},
   "outputs": [],
   "source": [
    "# stabilize output layer and layernorms\n",
    "model = prepare_model_for_kbit_training(model, 8)"
   ]
  },
  {
   "cell_type": "code",
   "execution_count": 10,
   "metadata": {},
   "outputs": [],
   "source": [
    "# Set PEFT adapter on model (Last step)\n",
    "model = get_peft_model(model, config)"
   ]
  },
  {
   "cell_type": "code",
   "execution_count": 11,
   "metadata": {},
   "outputs": [],
   "source": [
    "# Set Hyperparameters\n",
    "MAXLEN=512\n",
    "BATCH_SIZE=6\n",
    "GRAD_ACC=4\n",
    "WARMUP=100\n",
    "STEPS=10\n",
    "OPTIMIZER='paged_adamw_8bit' # save memory\n",
    "LR=4e-5                      # slightly smaller than pretraining lr | and close to LoRA standard"
   ]
  },
  {
   "cell_type": "code",
   "execution_count": 12,
   "metadata": {},
   "outputs": [],
   "source": [
    "# Setup Callbacks\n",
    "early_stop = transformers.EarlyStoppingCallback(10, 1.15)"
   ]
  },
  {
   "cell_type": "code",
   "execution_count": 13,
   "metadata": {},
   "outputs": [],
   "source": [
    "# Set training config\n",
    "training_config = transformers.TrainingArguments(per_device_train_batch_size=BATCH_SIZE,\n",
    "                                                 gradient_accumulation_steps=GRAD_ACC,\n",
    "                                                 warmup_steps=WARMUP,\n",
    "                                                 max_steps=STEPS,\n",
    "                                                 optim=OPTIMIZER,\n",
    "                                                 learning_rate=LR,\n",
    "                                                 fp16=True,            # consider compatibility when using bf16\n",
    "                                                 logging_steps=1,\n",
    "                                                 output_dir=OUTPUT_PATH,\n",
    "                                                 report_to='wandb',\n",
    "                                                 # earlyStopping callback requirements\n",
    "                                                 load_best_model_at_end=True,\n",
    "                                                 evaluation_strategy='steps',\n",
    "                                                 metric_for_best_model='eval_loss',\n",
    "                                                 greater_is_better=False,\n",
    "                                                 eval_steps=10,\n",
    "                                                 save_steps=10,\n",
    "                                                 save_total_limit=2,\n",
    "                                                 )"
   ]
  },
  {
   "cell_type": "code",
   "execution_count": 14,
   "metadata": {},
   "outputs": [],
   "source": [
    "# Set collator\n",
    "data_collator = transformers.DataCollatorForLanguageModeling(tokenizer, mlm=False)"
   ]
  },
  {
   "cell_type": "code",
   "execution_count": 26,
   "metadata": {},
   "outputs": [
    {
     "name": "stderr",
     "output_type": "stream",
     "text": [
      "huggingface/tokenizers: The current process just got forked, after parallelism has already been used. Disabling parallelism to avoid deadlocks...\n",
      "To disable this warning, you can either:\n",
      "\t- Avoid using `tokenizers` before the fork if possible\n",
      "\t- Explicitly set the environment variable TOKENIZERS_PARALLELISM=(true | false)\n",
      "huggingface/tokenizers: The current process just got forked, after parallelism has already been used. Disabling parallelism to avoid deadlocks...\n",
      "To disable this warning, you can either:\n",
      "\t- Avoid using `tokenizers` before the fork if possible\n",
      "\t- Explicitly set the environment variable TOKENIZERS_PARALLELISM=(true | false)\n",
      "huggingface/tokenizers: The current process just got forked, after parallelism has already been used. Disabling parallelism to avoid deadlocks...\n",
      "To disable this warning, you can either:\n",
      "\t- Avoid using `tokenizers` before the fork if possible\n",
      "\t- Explicitly set the environment variable TOKENIZERS_PARALLELISM=(true | false)\n"
     ]
    }
   ],
   "source": [
    "# Setup trainer\n",
    "trainer = transformers.Trainer(model=model,\n",
    "                               train_dataset=train_data,\n",
    "                               eval_dataset=val_data,\n",
    "                               data_collator=data_collator,\n",
    "                               args=training_config,\n",
    "                               callbacks=[early_stop],\n",
    "                              )"
   ]
  },
  {
   "cell_type": "code",
   "execution_count": null,
   "metadata": {},
   "outputs": [],
   "source": [
    "model.config.use_cache = False  # silence the warnings. Please re-enable for inference!\n",
    "trainer.train()"
   ]
  },
  {
   "cell_type": "code",
   "execution_count": null,
   "metadata": {},
   "outputs": [],
   "source": [
    "# model.push_to_hub(HUGGING_FACE_REPO_NAME)\n",
    "# tokenizer.push_to_hub(HUGGING_FACE_REPO_NAME)"
   ]
  },
  {
   "cell_type": "markdown",
   "metadata": {},
   "source": [
    "Merge Adapters to dequantized model"
   ]
  },
  {
   "cell_type": "code",
   "execution_count": null,
   "metadata": {},
   "outputs": [],
   "source": [
    "# # Try Model with Lora adapter\n",
    "# messages = [\n",
    "#     {\"role\": \"system\", \"content\": \"You are a friendly chatbot assistant.\"},\n",
    "#     {\"role\": \"user\", \"content\": \"Hello, what are your limitations as a seven billion parameters nlp model ?\"},\n",
    "# ]\n",
    "#\n",
    "# gen_input = tokenizer.apply_chat_template(messages, return_tensors=\"pt\").to('cuda')\n",
    "# gen_output = model.generate(input_ids=gen_input, max_new_tokens=512, do_sample=True)\n",
    "# print(tokenizer.decode(gen_output[0], skip_special_tokens=True))\n",
    "# # timeit : 12.6 s ± 3.39 s per loop (mean ± std. dev. of 7 runs, 1 loop each)"
   ]
  },
  {
   "cell_type": "code",
   "execution_count": null,
   "metadata": {},
   "outputs": [],
   "source": [
    "# Get peft config\n",
    "from peft import PeftConfig\n",
    "config = PeftConfig.from_pretrained(HUGGING_FACE_REPO_NAME)"
   ]
  },
  {
   "cell_type": "code",
   "execution_count": null,
   "metadata": {},
   "outputs": [],
   "source": [
    "# Get base model\n",
    "model = transformers.AutoModelForCausalLM.from_pretrained(config.base_model_name_or_path,\n",
    "                                                          torch_dtype=torch.float16, # GPTQ quantization requires fp16\n",
    "                                                          return_dict=True,\n",
    "                                                          )"
   ]
  },
  {
   "cell_type": "code",
   "execution_count": null,
   "metadata": {},
   "outputs": [],
   "source": [
    "# Load the Lora model\n",
    "from peft import PeftModel\n",
    "model = PeftModel.from_pretrained(model, HUGGING_FACE_REPO_NAME)"
   ]
  },
  {
   "cell_type": "code",
   "execution_count": null,
   "metadata": {},
   "outputs": [],
   "source": [
    "# Get tokenizer\n",
    "tokenizer = transformers.AutoTokenizer.from_pretrained(config.base_model_name_or_path,\n",
    "                                                       padding_side='left',\n",
    "                                                       add_eos_token=True\n",
    "                                                       )\n",
    "tokenizer.pad_token = tokenizer.eos_token"
   ]
  },
  {
   "cell_type": "code",
   "execution_count": null,
   "metadata": {},
   "outputs": [],
   "source": [
    "merged_model = model.merge_and_unload()"
   ]
  },
  {
   "cell_type": "code",
   "execution_count": null,
   "metadata": {},
   "outputs": [],
   "source": [
    "# merged_model.push_to_hub(HUGGING_FACE_MERGED_REPO_NAME)\n",
    "# tokenizer.push_to_hub(HUGGING_FACE_MERGED_REPO_NAME)"
   ]
  },
  {
   "cell_type": "markdown",
   "metadata": {},
   "source": [
    "Quantize with GPTQ"
   ]
  },
  {
   "cell_type": "code",
   "execution_count": null,
   "metadata": {},
   "outputs": [],
   "source": [
    "OFFLOAD_PATH = os.path.join(PROJECT_DIR_PATH, 'offload')"
   ]
  },
  {
   "cell_type": "code",
   "execution_count": 28,
   "metadata": {},
   "outputs": [
    {
     "ename": "",
     "evalue": "",
     "output_type": "error",
     "traceback": [
      "\u001b[1;31mThe Kernel crashed while executing code in the the current cell or a previous cell. Please review the code in the cell(s) to identify a possible cause of the failure. Click <a href='https://aka.ms/vscodeJupyterKernelCrash'>here</a> for more info. View Jupyter <a href='command:jupyter.viewOutput'>log</a> for further details."
     ]
    }
   ],
   "source": [
    "torch.cuda.empty_cache()"
   ]
  },
  {
   "cell_type": "code",
   "execution_count": null,
   "metadata": {},
   "outputs": [],
   "source": [
    "# Get tokenizer\n",
    "import transformers\n",
    "tokenizer = transformers.AutoTokenizer.from_pretrained(HUGGING_FACE_REPO_NAME,\n",
    "                                                       padding_side='left',\n",
    "                                                       add_eos_token=True\n",
    "                                                       )\n",
    "tokenizer.pad_token = tokenizer.eos_token"
   ]
  },
  {
   "cell_type": "code",
   "execution_count": null,
   "metadata": {},
   "outputs": [],
   "source": [
    "quantization_config = transformers.GPTQConfig(bits=4,\n",
    "                                              group_size=128,\n",
    "                                              desc_act=False,\n",
    "#                                              dataset=train_data,\n",
    "                                              dataset=data[:660],\n",
    "                                              tokenizer=tokenizer)"
   ]
  },
  {
   "cell_type": "code",
   "execution_count": null,
   "metadata": {},
   "outputs": [],
   "source": [
    "# Quantize model\n",
    "q_model = transformers.AutoModelForCausalLM.from_pretrained(HUGGING_FACE_MERGED_REPO_NAME,\n",
    "                                                            quantization_config=quantization_config,\n",
    "                                                            torch_dtype=torch.float16,\n",
    "                                                            device_map=\"auto\",\n",
    "#                                                            offload_folder=OFFLOAD_PATH\n",
    "                                                            )"
   ]
  },
  {
   "cell_type": "code",
   "execution_count": null,
   "metadata": {},
   "outputs": [],
   "source": [
    "# Push to HF hub\n",
    "q_model.push_to_hub(HUGGING_FACE_GPTQ_REPO_NAME)\n",
    "tokenizer.push_to_hub(HUGGING_FACE_GPTQ_REPO_NAME)"
   ]
  },
  {
   "cell_type": "markdown",
   "metadata": {},
   "source": [
    "Inference"
   ]
  },
  {
   "cell_type": "code",
   "execution_count": null,
   "metadata": {},
   "outputs": [],
   "source": [
    "import transformers, torch"
   ]
  },
  {
   "cell_type": "code",
   "execution_count": null,
   "metadata": {},
   "outputs": [],
   "source": [
    "# Get model\n",
    "model = transformers.AutoModelForCausalLM.from_pretrained(HUGGING_FACE_MERGED_REPO_NAME,\n",
    "                                                          device_map=\"auto\",\n",
    "                                                          torch_dtype=torch.bfloat16,\n",
    "                                                          use_flash_attention_2=True,\n",
    "#                                                          low_cpu_mem_usage=True,\n",
    "                                                         )"
   ]
  },
  {
   "cell_type": "code",
   "execution_count": null,
   "metadata": {},
   "outputs": [],
   "source": [
    "# Get tokenizer\n",
    "tokenizer = transformers.AutoTokenizer.from_pretrained(HUGGING_FACE_MERGED_REPO_NAME, padding_side='left')"
   ]
  },
  {
   "cell_type": "code",
   "execution_count": null,
   "metadata": {},
   "outputs": [],
   "source": [
    "# Try GPTQ finetuned model\n",
    "messages = [\n",
    "    {\"role\": \"system\", \"content\": \"You are a friendly chatbot assistant.\"},\n",
    "    {\"role\": \"user\", \"content\": \"Hello, what are the keys things to keep in mind during a job interview ?\"},]\n",
    "gen_input = tokenizer.apply_chat_template(messages, return_tensors=\"pt\").to('cuda')\n",
    "\n",
    "gen_output = model.generate(input_ids=gen_input,\n",
    "                            max_new_tokens=256,\n",
    "                            do_sample=True,\n",
    "                            temperature=0.7,\n",
    "                            top_k=50,\n",
    "                            top_p=0.95,\n",
    "                            repetition_penalty=1.1)\n",
    "out = tokenizer.decode(gen_output[0], skip_special_tokens=True)\n",
    "print(out)"
   ]
  }
 ],
 "metadata": {
  "kernelspec": {
   "display_name": "OpsHarmonySentinel",
   "language": "python",
   "name": "python3"
  },
  "language_info": {
   "codemirror_mode": {
    "name": "ipython",
    "version": 3
   },
   "file_extension": ".py",
   "mimetype": "text/x-python",
   "name": "python",
   "nbconvert_exporter": "python",
   "pygments_lexer": "ipython3",
   "version": "3.8.18"
  }
 },
 "nbformat": 4,
 "nbformat_minor": 2
}
